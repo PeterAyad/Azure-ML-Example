{
 "cells": [
  {
   "cell_type": "code",
   "execution_count": null,
   "metadata": {},
   "outputs": [],
   "source": [
    "!pip install - r requirements.txt\n"
   ]
  },
  {
   "cell_type": "code",
   "execution_count": null,
   "metadata": {},
   "outputs": [],
   "source": [
    "import azure.core\n",
    "from azureml.core import Workspace, Environment, Experiment, ScriptRunConfig\n",
    "from azureml.core.compute import AmlCompute, ComputeTarget\n",
    "from azureml.core.compute_target import ComputeTargetException\n"
   ]
  },
  {
   "cell_type": "code",
   "execution_count": null,
   "metadata": {},
   "outputs": [],
   "source": [
    "resource_name = \"sentiment-rg\"\n",
    "workspace_name = \"sentiment-ws\"\n",
    "subscriptionID = \"<your-subscription-id>\"\n",
    "aml_compute_target = \"sentiment-compute\"\n",
    "experiment_name = 'sentiment-experiment'\n"
   ]
  },
  {
   "attachments": {},
   "cell_type": "markdown",
   "metadata": {},
   "source": [
    "# Create or get workspace\n"
   ]
  },
  {
   "cell_type": "code",
   "execution_count": null,
   "metadata": {},
   "outputs": [],
   "source": [
    "try:\n",
    "    ws = Workspace.from_config()\n",
    "    print('Workspace is already exist')\n",
    "except:\n",
    "    try:\n",
    "        ws = Workspace.get(workspace_name,\n",
    "                           resource_group=resource_name,\n",
    "                           subscription_id=subscriptionID,\n",
    "                           location=\"East US\")\n",
    "        ws.write_config('.azureml')\n",
    "        print('Workspace is found')\n",
    "    except:\n",
    "        ws = Workspace.create(workspace_name,\n",
    "                              resource_group=resource_name,\n",
    "                              create_resource_group=True,\n",
    "                              subscription_id=subscriptionID,\n",
    "                              location=\"East US\")\n",
    "        ws.write_config('.azureml')\n",
    "        print('Workspace is created')\n"
   ]
  },
  {
   "attachments": {},
   "cell_type": "markdown",
   "metadata": {},
   "source": [
    "# Create a compute cluster\n"
   ]
  },
  {
   "cell_type": "code",
   "execution_count": null,
   "metadata": {},
   "outputs": [],
   "source": [
    "try:\n",
    "    aml_compute = AmlCompute(ws, aml_compute_target)\n",
    "    print(\"This Compute Target already exist.\")\n",
    "except ComputeTargetException:\n",
    "    print(\"creating new compute target :\", aml_compute_target)\n",
    "\n",
    "    provisioning_config = AmlCompute.provisioning_configuration(vm_size=\"STANDARD_D2_V2\",\n",
    "                                                                min_nodes=1,\n",
    "                                                                max_nodes=4,\n",
    "                                                                idle_seconds_before_scaledown=3000)\n",
    "    aml_compute = ComputeTarget.create(\n",
    "        ws, aml_compute_target, provisioning_config)\n",
    "    aml_compute.wait_for_completion(\n",
    "        show_output=True, min_node_count=None, timeout_in_minutes=20)\n",
    "\n",
    "print(\"Azure Machine Learning Compute attached now\")\n"
   ]
  },
  {
   "attachments": {},
   "cell_type": "markdown",
   "metadata": {},
   "source": [
    "# Create an Experiment\n"
   ]
  },
  {
   "cell_type": "code",
   "execution_count": null,
   "metadata": {},
   "outputs": [],
   "source": [
    "exp = Experiment(ws, experiment_name)\n"
   ]
  },
  {
   "attachments": {},
   "cell_type": "markdown",
   "metadata": {},
   "source": [
    "# Create and execute job\n"
   ]
  },
  {
   "cell_type": "code",
   "execution_count": null,
   "metadata": {},
   "outputs": [],
   "source": [
    "env = Environment.from_pip_requirements(\n",
    "    name=\"sentiment-env\", file_path=\"./requirements.txt\")\n",
    "config = ScriptRunConfig(source_directory=\"./model\", script=\"train.py\",\n",
    "                         compute_target=aml_compute_target, environment=env)\n",
    "execution = exp.submit(config)\n",
    "execution.wait_for_completion(show_output=True)\n"
   ]
  },
  {
   "attachments": {},
   "cell_type": "markdown",
   "metadata": {},
   "source": [
    "# Getting the registered the model\n"
   ]
  },
  {
   "attachments": {},
   "cell_type": "markdown",
   "metadata": {},
   "source": [
    "Model is registered at the end of the train file\n"
   ]
  },
  {
   "cell_type": "code",
   "execution_count": null,
   "metadata": {},
   "outputs": [],
   "source": [
    "# get the model registered by its name\n",
    "from azureml.core import Model\n",
    "model = Model(ws, \"sentiment_model\")\n",
    "model\n"
   ]
  },
  {
   "attachments": {},
   "cell_type": "markdown",
   "metadata": {},
   "source": [
    "# Deploy the model\n"
   ]
  },
  {
   "cell_type": "code",
   "execution_count": null,
   "metadata": {},
   "outputs": [],
   "source": [
    "from azureml.core.conda_dependencies import CondaDependencies\n",
    "from azureml.core.model import InferenceConfig\n",
    "from azureml.core.webservice import AciWebservice\n",
    "\n",
    "myenv = Environment.from_pip_requirements(\n",
    "    name=\"sentiment-env\", file_path=\"./requirements.txt\")\n",
    "myenv.register(workspace=ws)\n",
    "inference_config = InferenceConfig(\n",
    "    entry_script='classify.py', source_directory='./endpoint/', environment=myenv)\n"
   ]
  },
  {
   "cell_type": "code",
   "execution_count": null,
   "metadata": {},
   "outputs": [],
   "source": [
    "service = Model.deploy(ws, \"sentiment-model\",\n",
    "                       models=[model],\n",
    "                       inference_config=inference_config,\n",
    "                       deployment_config=AciWebservice.deploy_configuration(\n",
    "                           cpu_cores=1, memory_gb=1),\n",
    "                       overwrite=True)\n",
    "service.wait_for_deployment(show_output=True)\n",
    "url = service.scoring_uri\n",
    "print(url)\n"
   ]
  },
  {
   "attachments": {},
   "cell_type": "markdown",
   "metadata": {},
   "source": [
    "# Testing the Deployed Model\n"
   ]
  },
  {
   "cell_type": "code",
   "execution_count": null,
   "metadata": {},
   "outputs": [],
   "source": [
    "from azureml.core import Webservice\n",
    "service = Webservice(workspace=ws, name=\"sentiment-model\")\n",
    "print(service.scoring_uri)\n",
    "print(service.swagger_uri)\n"
   ]
  },
  {
   "cell_type": "code",
   "execution_count": null,
   "metadata": {},
   "outputs": [],
   "source": [
    "import pandas as pd\n",
    "\n",
    "df = pd.read_csv(\"./model/sample.csv\")\n",
    "df = df.sample(5)\n",
    "df.iloc[:, 0].tolist()\n"
   ]
  },
  {
   "cell_type": "code",
   "execution_count": null,
   "metadata": {},
   "outputs": [],
   "source": [
    "import requests\n",
    "import json\n",
    "headers = {'content-Type': 'application/json'}\n",
    "\n",
    "test = {\"data\": df.iloc[:, 5].tolist()}\n",
    "test = json.dumps(test)\n",
    "response = requests.post(service.scoring_uri, test, headers=headers)\n",
    "response.text\n"
   ]
  }
 ],
 "metadata": {
  "kernelspec": {
   "display_name": "Python 3",
   "language": "python",
   "name": "python3"
  },
  "language_info": {
   "codemirror_mode": {
    "name": "ipython",
    "version": 3
   },
   "file_extension": ".py",
   "mimetype": "text/x-python",
   "name": "python",
   "nbconvert_exporter": "python",
   "pygments_lexer": "ipython3",
   "version": "3.11.3"
  }
 },
 "nbformat": 4,
 "nbformat_minor": 2
}
